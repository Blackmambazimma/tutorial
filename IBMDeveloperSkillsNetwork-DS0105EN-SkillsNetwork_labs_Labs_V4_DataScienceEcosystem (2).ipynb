{
  "metadata": {
    "language_info": {
      "codemirror_mode": {
        "name": "python",
        "version": 3
      },
      "file_extension": ".py",
      "mimetype": "text/x-python",
      "name": "python",
      "nbconvert_exporter": "python",
      "pygments_lexer": "ipython3",
      "version": "3.8"
    },
    "kernelspec": {
      "name": "python",
      "display_name": "Python (Pyodide)",
      "language": "python"
    }
  },
  "nbformat_minor": 4,
  "nbformat": 4,
  "cells": [
    {
      "cell_type": "markdown",
      "source": "# Data Science Tools and Ecosystem",
      "metadata": {}
    },
    {
      "cell_type": "markdown",
      "source": "# Introduction\nIn this notebook, Data Science TTools and Ecosystem are summarized",
      "metadata": {}
    },
    {
      "cell_type": "markdown",
      "source": "<b>Objectives</b>\nList popular languages for Data Science\n- Data Scince Languages\n- Data Science Libraries\n- Data Science Tools\n- Arithmetic Expression \n- Convert minutes into hours\n",
      "metadata": {}
    },
    {
      "cell_type": "markdown",
      "source": "## Data Scince Languages \nSome of the popular lannguage that Data Science use are:\n1. R\n2. Python\n3. Julia \n4. SQL \n5. Scala ",
      "metadata": {}
    },
    {
      "cell_type": "markdown",
      "source": "## Data Science Libraries \nSome of the commonly used libraries by Data Scientist include \n1. Tensorflow \n2. Pandas\n3. Numpy \n4. PyTorch \n5. Matplotlib",
      "metadata": {}
    },
    {
      "cell_type": "markdown",
      "source": "## Data Scincce Tools \n| Data Science Tools|\n|...................|\n|RStudios|\n|Jupyter Notebook|\n|Visual Studio Code|",
      "metadata": {}
    },
    {
      "cell_type": "markdown",
      "source": "### Arithmetic Expression Examples \n\n### Below are few examples of evaluating arithmetic expressions in Python",
      "metadata": {}
    },
    {
      "cell_type": "code",
      "source": "# This is a simple arithmetic expression to multiply then add integers\n\n# Addition \n(3*4)+5",
      "metadata": {
        "trusted": true
      },
      "execution_count": 1,
      "outputs": [
        {
          "execution_count": 1,
          "output_type": "execute_result",
          "data": {
            "text/plain": "17"
          },
          "metadata": {}
        }
      ]
    },
    {
      "cell_type": "code",
      "source": "# This will convert 200 minutes to hours by diving by 60\n\n# 200 minutes hours \nminutes =200\nhours= minutes / 60\nprint(hours)",
      "metadata": {
        "trusted": true
      },
      "execution_count": 2,
      "outputs": [
        {
          "name": "stdout",
          "text": "3.3333333333333335\n",
          "output_type": "stream"
        }
      ]
    },
    {
      "cell_type": "markdown",
      "source": "## Author\n\nPRINCE OPUNI QUANSAH",
      "metadata": {}
    }
  ]
}